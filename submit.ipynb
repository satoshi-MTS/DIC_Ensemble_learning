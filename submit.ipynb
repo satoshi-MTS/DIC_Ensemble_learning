{
 "cells": [
  {
   "cell_type": "markdown",
   "id": "90dfa556-f65e-4f3a-a318-efcb9ded5f19",
   "metadata": {},
   "source": [
    "# 事前準備"
   ]
  },
  {
   "cell_type": "code",
   "execution_count": 1,
   "id": "f349bdbf-2ce0-4da2-9419-90ded44849db",
   "metadata": {},
   "outputs": [],
   "source": [
    "import pandas as pd\n",
    "full_df = pd.read_csv('train.csv')\n",
    "target = full_df['SalePrice']\n",
    "train_df = full_df[['GrLivArea', 'YearBuilt']]"
   ]
  },
  {
   "cell_type": "code",
   "execution_count": 2,
   "id": "ec54e66a-3bae-4f05-b33e-ec3c64cf6f62",
   "metadata": {},
   "outputs": [],
   "source": [
    "from sklearn.model_selection import train_test_split\n",
    "\n",
    "X_80, X_20, y_80, y_20 = train_test_split(train_df.values, target.values, test_size=0.2, random_state=0)"
   ]
  },
  {
   "cell_type": "markdown",
   "id": "bbed30c6-fb07-4ea2-a82c-8b6bd1257b45",
   "metadata": {},
   "source": [
    "# 【問題1】ブレンディングのスクラッチ実装\n",
    "ブレンディング をスクラッチ実装し、単一モデルより精度があがる例を 最低3つ 示してください。精度があがるとは、検証データに対する平均二乗誤差（MSE）が小さくなることを指します。\n",
    "\n",
    "## 単独モデル"
   ]
  },
  {
   "cell_type": "code",
   "execution_count": 3,
   "id": "4dcb41b2-b072-43ea-b2be-228504e090ba",
   "metadata": {},
   "outputs": [
    {
     "data": {
      "text/plain": [
       "2942123469.9794154"
      ]
     },
     "execution_count": 3,
     "metadata": {},
     "output_type": "execute_result"
    }
   ],
   "source": [
    "from sklearn.ensemble import RandomForestRegressor\n",
    "from sklearn.linear_model import LinearRegression\n",
    "from sklearn.linear_model import ElasticNet\n",
    "from sklearn.metrics import mean_squared_error\n",
    "\n",
    "reg_N = ElasticNet(alpha=1.0, l1_ratio=0.5).fit(X_80, y_80)\n",
    "mean_squared_error(reg_N.predict(X_20), y_20)"
   ]
  },
  {
   "cell_type": "markdown",
   "id": "eb598050-aa29-41f6-bfd1-30427fb39f8b",
   "metadata": {},
   "source": [
    "## 3つのモデルの平均"
   ]
  },
  {
   "cell_type": "code",
   "execution_count": 4,
   "id": "8f615e9b-85e3-4699-b76a-4d99272c8a4f",
   "metadata": {},
   "outputs": [
    {
     "data": {
      "text/plain": [
       "2353557550.3474035"
      ]
     },
     "execution_count": 4,
     "metadata": {},
     "output_type": "execute_result"
    }
   ],
   "source": [
    "from sklearn.linear_model import LinearRegression\n",
    "from sklearn.linear_model import ElasticNet\n",
    "from sklearn.metrics import mean_squared_error\n",
    "\n",
    "reg_1 = LinearRegression().fit(X_80, y_80)\n",
    "reg_2 = RandomForestRegressor().fit(X_80, y_80)\n",
    "reg_3 = ElasticNet(alpha=1.0, l1_ratio=0.5).fit(X_80, y_80)\n",
    "\n",
    "pred_sum = (reg_1.predict(X_20) + reg_2.predict(X_20) + reg_3.predict(X_20)) / 3\n",
    "mean_squared_error(pred_sum, y_20)"
   ]
  },
  {
   "cell_type": "markdown",
   "id": "7a086aa6-971f-4986-b004-790bcb2a1e5a",
   "metadata": {},
   "source": [
    "## ３つのハイパーパラメータ"
   ]
  },
  {
   "cell_type": "code",
   "execution_count": 5,
   "id": "645dc8ee-09b8-4ea7-82c1-d6c24d8a917d",
   "metadata": {},
   "outputs": [
    {
     "data": {
      "text/plain": [
       "2942113991.3477826"
      ]
     },
     "execution_count": 5,
     "metadata": {},
     "output_type": "execute_result"
    }
   ],
   "source": [
    "reg_1 = ElasticNet(alpha=1.0, l1_ratio=0.3).fit(X_80, y_80)\n",
    "reg_2 = ElasticNet(alpha=1.0, l1_ratio=0.5).fit(X_80, y_80)\n",
    "reg_3 = ElasticNet(alpha=0.1, l1_ratio=0.5).fit(X_80, y_80)\n",
    "\n",
    "pred_sum = (reg_1.predict(X_20) + reg_2.predict(X_20) + reg_3.predict(X_20)) / 3\n",
    "mean_squared_error(pred_sum, y_20)"
   ]
  },
  {
   "cell_type": "markdown",
   "id": "a9e543d4-6cb7-4d11-8e77-ce29da2b2cca",
   "metadata": {},
   "source": [
    "## 3つの前処理"
   ]
  },
  {
   "cell_type": "code",
   "execution_count": 6,
   "id": "95026b5b-7b86-4ceb-96df-bfc207ca53f7",
   "metadata": {},
   "outputs": [
    {
     "data": {
      "text/plain": [
       "3823407077.4509144"
      ]
     },
     "execution_count": 6,
     "metadata": {},
     "output_type": "execute_result"
    }
   ],
   "source": [
    "import numpy as np\n",
    "from sklearn.preprocessing import StandardScaler\n",
    "from sklearn.preprocessing import MinMaxScaler\n",
    "\n",
    "# 対数変換\n",
    "log_y_80 = np.log(y_80)\n",
    "log_y_20 = np.log(y_20)\n",
    "reg_1 = ElasticNet(alpha=1.0, l1_ratio=0.5).fit(X_80, log_y_80)\n",
    "\n",
    "# 正則化\n",
    "scaler = StandardScaler()\n",
    "scaler_X_80 = scaler.fit_transform(X_80)\n",
    "scaler_X_20 = scaler.transform(X_20)\n",
    "reg_2 = ElasticNet(alpha=1.0, l1_ratio=0.5).fit(scaler_X_80, y_80)\n",
    "\n",
    "# 01正則化\n",
    "m_scaler = MinMaxScaler()\n",
    "m_scaler_X_80 = scaler.fit_transform(X_80)\n",
    "m_scaler_X_20 = scaler.transform(X_20)\n",
    "reg_3 = ElasticNet(alpha=1.0, l1_ratio=0.5).fit(m_scaler_X_80, y_80)\n",
    "\n",
    "pred_sum = (np.exp(reg_1.predict(X_20)) + reg_2.predict(scaler_X_20) + reg_3.predict(m_scaler_X_20)) / 3\n",
    "mean_squared_error(pred_sum, y_20)"
   ]
  },
  {
   "cell_type": "markdown",
   "id": "28ec078d-1674-4a21-ada4-a71ce8b43532",
   "metadata": {},
   "source": [
    "# 【問題2】バギングのスクラッチ実装\n",
    "バギング をスクラッチ実装し、単一モデルより精度があがる例を 最低1つ 示してください。\n",
    "\n",
    "# 単一モデルの場合"
   ]
  },
  {
   "cell_type": "code",
   "execution_count": 7,
   "id": "1ef9cc4c-5d03-4ab2-8b01-9e2b847fe0eb",
   "metadata": {},
   "outputs": [
    {
     "data": {
      "text/plain": [
       "3009170128.186454"
      ]
     },
     "execution_count": 7,
     "metadata": {},
     "output_type": "execute_result"
    }
   ],
   "source": [
    "from sklearn.tree import DecisionTreeRegressor\n",
    "\n",
    "reg_N = DecisionTreeRegressor(random_state=0).fit(X_80, y_80)\n",
    "mean_squared_error(reg_N.predict(X_20), y_20)"
   ]
  },
  {
   "cell_type": "markdown",
   "id": "48e85518-62f1-4bd3-8fd4-a96977b70515",
   "metadata": {},
   "source": [
    "# バギングの場合"
   ]
  },
  {
   "cell_type": "code",
   "execution_count": 8,
   "id": "ee725dd9-061c-4c9c-9d73-9b96cae74bce",
   "metadata": {},
   "outputs": [
    {
     "data": {
      "text/plain": [
       "2793127047.909028"
      ]
     },
     "execution_count": 8,
     "metadata": {},
     "output_type": "execute_result"
    }
   ],
   "source": [
    "from sklearn.model_selection import ShuffleSplit\n",
    "\n",
    "n_splits=10\n",
    "\n",
    "rs = ShuffleSplit(n_splits=n_splits, test_size=0.2, random_state=42)\n",
    "sum_error = 0\n",
    "\n",
    "# 全体の80%のデータを使用する\n",
    "for train_index, test_index in rs.split(X_80):    \n",
    "    reg_bag = DecisionTreeRegressor(random_state=0).fit(X_80[train_index], y_80[train_index])\n",
    "    sum_error += mean_squared_error(reg_bag.predict(X_20), y_20)\n",
    "sum_error / n_splits"
   ]
  },
  {
   "cell_type": "markdown",
   "id": "db1a8b2d-0217-4c3d-b330-a7c5f19a8584",
   "metadata": {},
   "source": [
    "# 【問題3】スタッキングのスクラッチ実装\n",
    "スタッキング をスクラッチ実装し、単一モデルより精度があがる例を 最低1つ 示してください。"
   ]
  },
  {
   "cell_type": "markdown",
   "id": "48a444fd-b5c3-41ae-a434-958f2a25b318",
   "metadata": {},
   "source": [
    "## データ分割"
   ]
  },
  {
   "cell_type": "code",
   "execution_count": 9,
   "id": "8335a6f8-e6df-4d38-b591-abef56d7f612",
   "metadata": {},
   "outputs": [],
   "source": [
    "# 3分割\n",
    "k = 3\n",
    "train_X3, train_X, train_y3, train_y = train_test_split(X_80, y_80, test_size=(2/k), random_state=0)\n",
    "train_X1, train_X2, train_y1, train_y2 = train_test_split(train_X, train_y, test_size=(1/ (k - 1)), random_state=0)"
   ]
  },
  {
   "cell_type": "code",
   "execution_count": 10,
   "id": "201f7640-f59b-4ab5-8229-63223d28f7a0",
   "metadata": {},
   "outputs": [
    {
     "data": {
      "text/plain": [
       "(390, 2)"
      ]
     },
     "execution_count": 10,
     "metadata": {},
     "output_type": "execute_result"
    }
   ],
   "source": [
    "train_X2.shape"
   ]
  },
  {
   "cell_type": "code",
   "execution_count": 11,
   "id": "1093b5a3-7049-460b-99ae-049d0d49bdca",
   "metadata": {},
   "outputs": [
    {
     "data": {
      "text/plain": [
       "((389, 2), (389, 2))"
      ]
     },
     "execution_count": 11,
     "metadata": {},
     "output_type": "execute_result"
    }
   ],
   "source": [
    "train_X1.shape, train_X3.shape"
   ]
  },
  {
   "cell_type": "code",
   "execution_count": 12,
   "id": "a6d467ca-f5cd-42d3-bf72-5da679329d46",
   "metadata": {},
   "outputs": [],
   "source": [
    "# 桁合わせ\n",
    "train_X2 = np.delete(train_X2, 0 ,0)\n",
    "train_y2 = np.delete(train_y2, 0 ,0)"
   ]
  },
  {
   "cell_type": "code",
   "execution_count": 13,
   "id": "4e9dee63-801d-46d4-83d4-77f485ad1066",
   "metadata": {},
   "outputs": [
    {
     "data": {
      "text/plain": [
       "((389, 2), (389, 2), (389, 2))"
      ]
     },
     "execution_count": 13,
     "metadata": {},
     "output_type": "execute_result"
    }
   ],
   "source": [
    "train_X1.shape, train_X2.shape, train_X3.shape "
   ]
  },
  {
   "cell_type": "code",
   "execution_count": 14,
   "id": "4e9a85bc-ca2c-42fd-a747-cfeaea65f965",
   "metadata": {},
   "outputs": [],
   "source": [
    "# データを組み合わせる\n",
    "train_X12 = np.concatenate([train_X1, train_X2])\n",
    "train_X23 = np.concatenate([train_X2, train_X3])\n",
    "train_X13 = np.concatenate([train_X1, train_X3])\n",
    "\n",
    "train_y12 = np.concatenate([train_y1.reshape(-1, 1), train_y2.reshape(-1, 1)])\n",
    "train_y23 = np.concatenate([train_y2.reshape(-1, 1), train_y3.reshape(-1, 1)])\n",
    "train_y13 = np.concatenate([train_y1.reshape(-1, 1), train_y3.reshape(-1, 1)])"
   ]
  },
  {
   "cell_type": "code",
   "execution_count": 15,
   "id": "1d88f8ae-3908-4b5e-bd8e-cb65d6a919b1",
   "metadata": {},
   "outputs": [
    {
     "data": {
      "text/plain": [
       "(778, 2)"
      ]
     },
     "execution_count": 15,
     "metadata": {},
     "output_type": "execute_result"
    }
   ],
   "source": [
    "train_X13.shape"
   ]
  },
  {
   "cell_type": "markdown",
   "id": "fa6d6e67-bdb3-4c36-94fc-f21f417ba56a",
   "metadata": {},
   "source": [
    "## 学習"
   ]
  },
  {
   "cell_type": "code",
   "execution_count": 16,
   "id": "73bef238-f6de-4d33-ae02-f45bd534d870",
   "metadata": {},
   "outputs": [],
   "source": [
    "dtr_1 = DecisionTreeRegressor().fit(train_X23, train_y23)\n",
    "dtr_2 = DecisionTreeRegressor().fit(train_X13, train_y13)\n",
    "dtr_3 = DecisionTreeRegressor().fit(train_X12, train_y12)\n",
    "\n",
    "dtr_pred_1 = dtr_1.predict(train_X1).reshape(-1, 1)\n",
    "dtr_pred_2 = dtr_2.predict(train_X2).reshape(-1, 1)\n",
    "dtr_pred_3 = dtr_3.predict(train_X3).reshape(-1, 1)\n",
    "\n",
    "dtr_pred = np.concatenate([dtr_pred_1, dtr_pred_2, dtr_pred_3])"
   ]
  },
  {
   "cell_type": "code",
   "execution_count": 17,
   "id": "bd4748aa-530c-44c2-bf9e-352b491f4784",
   "metadata": {},
   "outputs": [],
   "source": [
    "lr_1 = LinearRegression().fit(train_X23, train_y23)\n",
    "lr_2 = LinearRegression().fit(train_X13, train_y13)\n",
    "lr_3 = LinearRegression().fit(train_X12, train_y12)\n",
    "\n",
    "lr_pred_1 = lr_1.predict(train_X1)\n",
    "lr_pred_2 = lr_2.predict(train_X2)\n",
    "lr_pred_3 = lr_3.predict(train_X3)\n",
    "\n",
    "lr_pred = np.concatenate([lr_pred_1, lr_pred_2, lr_pred_3])"
   ]
  },
  {
   "cell_type": "code",
   "execution_count": 18,
   "id": "becec2c2-c1e0-4da5-a87d-cbfc5daca7b6",
   "metadata": {},
   "outputs": [],
   "source": [
    "# 2次元の特徴量として使用、ブレンド\n",
    "new_X_train = np.hstack([dtr_pred, lr_pred])"
   ]
  },
  {
   "cell_type": "code",
   "execution_count": 19,
   "id": "d8b92227-556a-45ce-9aa2-8e9eb55c965d",
   "metadata": {},
   "outputs": [
    {
     "data": {
      "text/plain": [
       "(1167, 2)"
      ]
     },
     "execution_count": 19,
     "metadata": {},
     "output_type": "execute_result"
    }
   ],
   "source": [
    "new_X_train.shape"
   ]
  },
  {
   "cell_type": "code",
   "execution_count": 20,
   "id": "83d57345-5308-4c2b-a474-3f821857d04c",
   "metadata": {},
   "outputs": [],
   "source": [
    "# 最終学習\n",
    "meta_model = LinearRegression().fit(new_X_train, np.concatenate([train_y1, train_y2, train_y3]))"
   ]
  },
  {
   "cell_type": "markdown",
   "id": "889a436f-331f-4cb5-a74e-e33640254dd1",
   "metadata": {},
   "source": [
    "## 推定"
   ]
  },
  {
   "cell_type": "code",
   "execution_count": 21,
   "id": "3ab13b1a-33e0-4cb1-b381-187231f14953",
   "metadata": {},
   "outputs": [],
   "source": [
    "dtr_test_pred_1 = dtr_1.predict(X_20).reshape(-1, 1)\n",
    "dtr_test_pred_2 = dtr_2.predict(X_20).reshape(-1, 1)\n",
    "dtr_test_pred_3 = dtr_3.predict(X_20).reshape(-1, 1)\n",
    "\n",
    "lr_test_pred_1 = lr_1.predict(X_20)\n",
    "lr_test_pred_2 = lr_2.predict(X_20)\n",
    "lr_test_pred_3 = lr_3.predict(X_20)"
   ]
  },
  {
   "cell_type": "code",
   "execution_count": 22,
   "id": "24c8d2a1-3a41-4791-813d-3e49293cbcb5",
   "metadata": {},
   "outputs": [],
   "source": [
    "dtr_test_pred = (dtr_test_pred_1 + dtr_test_pred_2 + dtr_test_pred_3) / 3\n",
    "lr_test_pred = (lr_test_pred_1 + lr_test_pred_2 + lr_test_pred_3) / 3\n",
    "\n",
    "# 2次元の特徴量として使用、ブレンド\n",
    "new_X_test = np.hstack([dtr_test_pred, lr_test_pred])"
   ]
  },
  {
   "cell_type": "code",
   "execution_count": 23,
   "id": "b04f20df-de1d-4976-8327-9fcff37460e1",
   "metadata": {},
   "outputs": [],
   "source": [
    "# 最終推定\n",
    "meta_pred = meta_model.predict(new_X_test)"
   ]
  },
  {
   "cell_type": "markdown",
   "id": "f90a7377-07d0-42f8-b018-a518269ada64",
   "metadata": {},
   "source": [
    "## 評価"
   ]
  },
  {
   "cell_type": "code",
   "execution_count": 24,
   "id": "399c4112-6ea2-4c9f-a06d-210521df50be",
   "metadata": {},
   "outputs": [
    {
     "data": {
      "text/plain": [
       "3009170128.186454"
      ]
     },
     "execution_count": 24,
     "metadata": {},
     "output_type": "execute_result"
    }
   ],
   "source": [
    "reg_N = DecisionTreeRegressor(random_state=0).fit(X_80, y_80)\n",
    "mean_squared_error(reg_N.predict(X_20), y_20)"
   ]
  },
  {
   "cell_type": "code",
   "execution_count": 25,
   "id": "454503f8-619b-4f15-89dd-92c80905d89d",
   "metadata": {},
   "outputs": [
    {
     "data": {
      "text/plain": [
       "2415406187.090605"
      ]
     },
     "execution_count": 25,
     "metadata": {},
     "output_type": "execute_result"
    }
   ],
   "source": [
    "mean_squared_error(meta_pred, y_20)"
   ]
  }
 ],
 "metadata": {
  "kernelspec": {
   "display_name": "Python 3",
   "language": "python",
   "name": "python3"
  },
  "language_info": {
   "codemirror_mode": {
    "name": "ipython",
    "version": 3
   },
   "file_extension": ".py",
   "mimetype": "text/x-python",
   "name": "python",
   "nbconvert_exporter": "python",
   "pygments_lexer": "ipython3",
   "version": "3.8.11"
  }
 },
 "nbformat": 4,
 "nbformat_minor": 5
}
